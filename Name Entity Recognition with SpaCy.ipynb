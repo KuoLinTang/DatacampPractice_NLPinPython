{
 "cells": [
  {
   "cell_type": "markdown",
   "id": "egyptian-theology",
   "metadata": {},
   "source": [
    "# SpaCy for NER\n",
    "\n",
    "跟Gensim很像，都是做NLP的packages，但是實際使用的implementations不同 (SpaCy主要在建立NLP的pipelines來產生模型或corpora)\n",
    "\n",
    "SpaCy的團隊還有開發一個 Name Entity Recognition 的 GUI 網站，可以直接輸入文字，並選擇entity recognition的模型，即可label文字的entity。詳情請見： https://explosion.ai/demos/displacy-ent\n",
    "\n",
    "使用Python SpaCy套件之前，必須安裝SpaCy套件，並且下載pre-trained corpus和word vectors (類似Gensim的dictionary和corpus)"
   ]
  },
  {
   "cell_type": "code",
   "execution_count": 1,
   "id": "heavy-demand",
   "metadata": {},
   "outputs": [],
   "source": [
    "# Install spacy\n",
    "# !pip install spacy   \n",
    "\n",
    "# Download large English corpus\n",
    "# !python -m spacy download en_core_web_lg\n",
    "\n",
    "import spacy\n",
    "nlp = spacy.load('en_core_web_lg')"
   ]
  },
  {
   "cell_type": "markdown",
   "id": "musical-label",
   "metadata": {},
   "source": [
    "前面載入的nlp模型包含很多模型，例如：nlp.entity 這個模型可用來尋找文件中的entities\n",
    "\n",
    "使用方式：\n",
    "1. 將文件傳入nlp這個模型中，得到一個物件\n",
    "2. 這個物件有很多attributes，其中有一個document attribute稱為ents，存有文件中的name entities"
   ]
  },
  {
   "cell_type": "code",
   "execution_count": 2,
   "id": "polar-alias",
   "metadata": {},
   "outputs": [
    {
     "name": "stdout",
     "output_type": "stream",
     "text": [
      "(Berlin, Germany, Angela Merkel)\n"
     ]
    }
   ],
   "source": [
    "doc = nlp(\"\"\"Berlin is the capital of Germany; and the residence of Chancellor Angela Merkel.\"\"\")\n",
    "\n",
    "print(doc.ents)"
   ]
  },
  {
   "cell_type": "markdown",
   "id": "flexible-permit",
   "metadata": {},
   "source": [
    "上面的例子，SpaCy的模型分辨出三個主要的entities。我們也可以檢視這些entities的labels"
   ]
  },
  {
   "cell_type": "code",
   "execution_count": 3,
   "id": "seasonal-letters",
   "metadata": {},
   "outputs": [
    {
     "name": "stdout",
     "output_type": "stream",
     "text": [
      "Berlin GPE\n"
     ]
    }
   ],
   "source": [
    "print(doc.ents[0], doc.ents[0].label_)"
   ]
  },
  {
   "cell_type": "markdown",
   "id": "personal-citation",
   "metadata": {},
   "source": [
    "---\n",
    "\n",
    "課堂練習一：檢視文章中主要的entities以及其labels"
   ]
  },
  {
   "cell_type": "code",
   "execution_count": 5,
   "id": "contemporary-excerpt",
   "metadata": {},
   "outputs": [],
   "source": [
    "article = '\\ufeffThe taxi-hailing company Uber brings into very sharp focus the question of whether corporations can be said to have a moral character. If any human being were to behave with the single-minded and ruthless greed of the company, we would consider them sociopathic. Uber wanted to know as much as possible about the people who use its service, and those who don’t. It has an arrangement with unroll.me, a company which offered a free service for unsubscribing from junk mail, to buy the contacts unroll.me customers had had with rival taxi companies. Even if their email was notionally anonymised, this use of it was not something the users had bargained for. Beyond that, it keeps track of the phones that have been used to summon its services even after the original owner has sold them, attempting this with Apple’s phones even thought it is forbidden by the company.\\r\\n\\r\\n\\r\\nUber has also tweaked its software so that regulatory agencies that the company regarded as hostile would, when they tried to hire a driver, be given false reports about the location of its cars. Uber management booked and then cancelled rides with a rival taxi-hailing company which took their vehicles out of circulation. Uber deny this was the intention. The punishment for this behaviour was negligible. Uber promised not to use this “greyball” software against law enforcement – one wonders what would happen to someone carrying a knife who promised never to stab a policeman with it. Travis Kalanick of Uber got a personal dressing down from Tim Cook, who runs Apple, but the company did not prohibit the use of the app. Too much money was at stake for that.\\r\\n\\r\\n\\r\\nMillions of people around the world value the cheapness and convenience of Uber’s rides too much to care about the lack of drivers’ rights or pay. Many of the users themselves are not much richer than the drivers. The “sharing economy” encourages the insecure and exploited to exploit others equally insecure to the profit of a tiny clique of billionaires. Silicon Valley’s culture seems hostile to humane and democratic values. The outgoing CEO of Yahoo, Marissa Mayer, who is widely judged to have been a failure, is likely to get a $186m payout. This may not be a cause for panic, any more than the previous hero worship should have been a cause for euphoria. Yet there’s an urgent political task to tame these companies, to ensure they are punished when they break the law, that they pay their taxes fairly and that they behave responsibly.'"
   ]
  },
  {
   "cell_type": "code",
   "execution_count": 10,
   "id": "stuffed-mattress",
   "metadata": {},
   "outputs": [
    {
     "name": "stdout",
     "output_type": "stream",
     "text": [
      "Label: ORG ; Text: Apple ; Content: Apple\n",
      "Label: PERSON ; Text: Travis Kalanick ; Content: Travis Kalanick\n",
      "Label: PERSON ; Text: Tim Cook ; Content: Tim Cook\n",
      "Label: ORG ; Text: Apple ; Content: Apple\n",
      "Label: CARDINAL ; Text: Millions ; Content: Millions\n",
      "Label: LOC ; Text: Silicon Valley’s ; Content: Silicon Valley’s\n",
      "Label: ORG ; Text: Yahoo ; Content: Yahoo\n",
      "Label: PERSON ; Text: Marissa Mayer ; Content: Marissa Mayer\n",
      "Label: MONEY ; Text: 186 ; Content: 186\n"
     ]
    }
   ],
   "source": [
    "# Create a new document: doc\n",
    "doc = nlp(article)\n",
    "\n",
    "# Print all of the found entities and their labels\n",
    "for ent in doc.ents:\n",
    "    print(\"Label: \" + ent.label_, \"; Text: \" + ent.text, \"; Content: \" + str(ent))"
   ]
  },
  {
   "cell_type": "markdown",
   "id": "intended-alarm",
   "metadata": {},
   "source": [
    "上面例子可知其實ent物件的text屬性就是ent"
   ]
  }
 ],
 "metadata": {
  "kernelspec": {
   "display_name": "Python 3",
   "language": "python",
   "name": "python3"
  },
  "language_info": {
   "codemirror_mode": {
    "name": "ipython",
    "version": 3
   },
   "file_extension": ".py",
   "mimetype": "text/x-python",
   "name": "python",
   "nbconvert_exporter": "python",
   "pygments_lexer": "ipython3",
   "version": "3.7.9"
  }
 },
 "nbformat": 4,
 "nbformat_minor": 5
}
